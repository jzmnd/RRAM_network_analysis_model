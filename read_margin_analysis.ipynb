{
 "cells": [
  {
   "cell_type": "code",
   "execution_count": 227,
   "metadata": {
    "collapsed": true,
    "deletable": true,
    "editable": true
   },
   "outputs": [],
   "source": [
    "%matplotlib inline"
   ]
  },
  {
   "cell_type": "code",
   "execution_count": 228,
   "metadata": {
    "collapsed": true,
    "deletable": true,
    "editable": true
   },
   "outputs": [],
   "source": [
    "import numpy as np\n",
    "import matplotlib.pyplot as plt\n",
    "import seaborn as sns"
   ]
  },
  {
   "cell_type": "code",
   "execution_count": 229,
   "metadata": {
    "collapsed": false,
    "deletable": true,
    "editable": true
   },
   "outputs": [],
   "source": [
    "# Memory array parameters\n",
    "rHRS = 1e6\n",
    "rPU = 1e3\n",
    "rON = 1e3\n",
    "n = np.array([2, 8, 16, 32, 64, 128, 256, 512, 1024, 2048, 3072, 4096, 5120])\n",
    "vRead = 1.6"
   ]
  },
  {
   "cell_type": "code",
   "execution_count": 230,
   "metadata": {
    "collapsed": false,
    "deletable": true,
    "editable": true
   },
   "outputs": [],
   "source": [
    "# Sneak path resistance\n",
    "r_sneak = rHRS * (2*n - 1) / (n - 1)**2\n",
    "\n",
    "# Current calculations through Rpu (i.e. Isneak + ICRS)\n",
    "ihrs = vRead * (1.0 / r_sneak + 1.0 / rHRS) / (rPU / r_sneak + rPU / rHRS + 1.0)\n",
    "ion = vRead * (1.0 / r_sneak + 1.0 / rON) / (rPU / r_sneak + rPU / rON + 1.0)\n",
    "\n",
    "# Normalized voltage calculations accross cell (note these are independent of vRead)\n",
    "mhrs = 1 - rPU * ihrs / vRead\n",
    "mon = 1 - rPU * ion / vRead\n",
    "\n",
    "margin = abs(mhrs - mon)"
   ]
  },
  {
   "cell_type": "code",
   "execution_count": 231,
   "metadata": {
    "collapsed": false,
    "deletable": true,
    "editable": true
   },
   "outputs": [
    {
     "data": {
      "image/png": "[encoded data removed]",
      "text/plain": [
       "<matplotlib.figure.Figure at 0x109418590>"
      ]
     },
     "metadata": {},
     "output_type": "display_data"
    }
   ],
   "source": [
    "plt.plot(n, mhrs, c = 'lightgray')\n",
    "plt.plot(n, mon, c = 'lightgray')\n",
    "plt.plot(n, margin)\n",
    "plt.plot([2, 5120], [0.1, 0.1], c='gray', ls='--')\n",
    "plt.ylim([0,1.05])\n",
    "plt.xscale('log')\n",
    "plt.xlabel(\"n\")\n",
    "plt.ylabel(\"deltaV / V\")\n",
    "plt.savefig(\"figures/read_margin_analysis_Rhrs{:.0e}_Ron{:.0e}.png\".format(rHRS, rON), dpi=300, figsize=(10,12))\n",
    "plt.show()"
   ]
  },
  {
   "cell_type": "code",
   "execution_count": 232,
   "metadata": {
    "collapsed": false,
    "deletable": true,
    "editable": true
   },
   "outputs": [
    {
     "name": "stdout",
     "output_type": "stream",
     "text": [
      "3456\n"
     ]
    }
   ],
   "source": [
    "maxn = np.int(np.interp(0.1, margin[::-1], n[::-1]))\n",
    "print maxn"
   ]
  },
  {
   "cell_type": "code",
   "execution_count": null,
   "metadata": {
    "collapsed": true,
    "deletable": true,
    "editable": true
   },
   "outputs": [],
   "source": []
  }
 ],
 "metadata": {
  "kernelspec": {
   "display_name": "Python 2",
   "language": "python",
   "name": "python2"
  },
  "language_info": {
   "codemirror_mode": {
    "name": "ipython",
    "version": 2
   },
   "file_extension": ".py",
   "mimetype": "text/x-python",
   "name": "python",
   "nbconvert_exporter": "python",
   "pygments_lexer": "ipython2",
   "version": "2.7.13"
  }
 },
 "nbformat": 4,
 "nbformat_minor": 2
}
