{
 "cells": [
  {
   "cell_type": "code",
   "execution_count": 82,
   "metadata": {
    "collapsed": true,
    "deletable": true,
    "editable": true
   },
   "outputs": [],
   "source": [
    "%matplotlib inline"
   ]
  },
  {
   "cell_type": "code",
   "execution_count": 83,
   "metadata": {
    "collapsed": true,
    "deletable": true,
    "editable": true
   },
   "outputs": [],
   "source": [
    "import numpy as np\n",
    "from scipy.sparse.linalg import spsolve\n",
    "from scipy.sparse import csr_matrix\n",
    "import matplotlib.pyplot as plt\n",
    "import seaborn as sns\n",
    "from condlib import conductance_matrix_READ\n",
    "from timeit import default_timer as timer"
   ]
  },
  {
   "cell_type": "code",
   "execution_count": 84,
   "metadata": {
    "collapsed": false,
    "deletable": true,
    "editable": true
   },
   "outputs": [],
   "source": [
    "# Memory array parameters\n",
    "rL = 4.8\n",
    "rHRS = 1e6\n",
    "rPU = 1e3\n",
    "n = 16\n",
    "vRead = [0.5, 1.0, 1.6, 2.0, 2.5, 3.0, 4.0]"
   ]
  },
  {
   "cell_type": "code",
   "execution_count": 85,
   "metadata": {
    "collapsed": true,
    "deletable": true,
    "editable": true
   },
   "outputs": [],
   "source": [
    "hubList = []\n",
    "lsbList = []\n",
    "WLvoltagesList = []\n",
    "BLvoltagesList = []\n",
    "cellVoltagesList = []\n",
    "mask = np.ones((n, n), dtype=bool)\n",
    "mask[n-1][n-1] = False"
   ]
  },
  {
   "cell_type": "code",
   "execution_count": 86,
   "metadata": {
    "collapsed": false,
    "deletable": true,
    "editable": true
   },
   "outputs": [
    {
     "name": "stdout",
     "output_type": "stream",
     "text": [
      "0.0060 sec\n",
      "Write voltage          : 0.5000 V\n",
      "Highest unselected bit : 0.2380 V\n",
      "Lowest selected bit    : 0.4916 V\n",
      "0.0066 sec\n",
      "Write voltage          : 1.0000 V\n",
      "Highest unselected bit : 0.4760 V\n",
      "Lowest selected bit    : 0.9831 V\n",
      "0.0051 sec\n",
      "Write voltage          : 1.6000 V\n",
      "Highest unselected bit : 0.7616 V\n",
      "Lowest selected bit    : 1.5730 V\n",
      "0.0051 sec\n",
      "Write voltage          : 2.0000 V\n",
      "Highest unselected bit : 0.9520 V\n",
      "Lowest selected bit    : 1.9663 V\n",
      "0.0050 sec\n",
      "Write voltage          : 2.5000 V\n",
      "Highest unselected bit : 1.1900 V\n",
      "Lowest selected bit    : 2.4578 V\n",
      "0.0048 sec\n",
      "Write voltage          : 3.0000 V\n",
      "Highest unselected bit : 1.4280 V\n",
      "Lowest selected bit    : 2.9494 V\n",
      "0.0047 sec\n",
      "Write voltage          : 4.0000 V\n",
      "Highest unselected bit : 1.9040 V\n",
      "Lowest selected bit    : 3.9326 V\n"
     ]
    }
   ],
   "source": [
    "for v in vRead:\n",
    "    # Voltages for BLs and WLs (read voltages, unselected floating)\n",
    "    vBLsel = 0.0\n",
    "    vWLsel = v\n",
    "\n",
    "    start_t = timer()\n",
    "    # Create conductance matrix\n",
    "    conductancematrix, iinvector = conductance_matrix_READ(n, rL, rHRS, rPU,\n",
    "                                                           vWLsel, vBLsel,\n",
    "                                                           isel=n-1, jsel=n-1, verbose=False)\n",
    "    # Convert to sparse matrix (CSR)\n",
    "    conductancematrix = csr_matrix(conductancematrix)\n",
    "    # Solve\n",
    "    voltages = spsolve(conductancematrix, iinvector)\n",
    "    stop_t = timer()\n",
    "\n",
    "    # Separate WL and BL nodes and calculate cell voltages\n",
    "    WLvoltages = voltages[:n*n].reshape((n, n))\n",
    "    BLvoltages = voltages[n*n:].reshape((n, n))\n",
    "    WLvoltagesList.append(WLvoltages)\n",
    "    BLvoltagesList.append(BLvoltages)\n",
    "\n",
    "    cellVoltages = abs(BLvoltages - WLvoltages)\n",
    "    cellVoltagesList.append(cellVoltages)\n",
    "\n",
    "    # Calculate Highest Unselected Bit and Lowest Selected Bit\n",
    "    hub = np.max(cellVoltages[mask])\n",
    "    lsb = cellVoltages[n-1][n-1]\n",
    "    hubList.append(hub)\n",
    "    lsbList.append(lsb)\n",
    "    \n",
    "    print \"{:.4f} sec\".format(stop_t - start_t)\n",
    "    print \"Write voltage          : {:.4f} V\".format(v)\n",
    "    print \"Highest unselected bit : {:.4f} V\".format(hub)\n",
    "    print \"Lowest selected bit    : {:.4f} V\".format(lsb)"
   ]
  },
  {
   "cell_type": "code",
   "execution_count": 87,
   "metadata": {
    "collapsed": false,
    "deletable": true,
    "editable": true
   },
   "outputs": [
    {
     "data": {
      "image/png": "[encoded data removed]",
      "text/plain": [
       "<matplotlib.figure.Figure at 0x1083ab3d0>"
      ]
     },
     "metadata": {},
     "output_type": "display_data"
    }
   ],
   "source": [
    "if n < 9:\n",
    "    sns.heatmap(WLvoltagesList[2], square=True)\n",
    "else:\n",
    "    sns.heatmap(WLvoltagesList[2], square=True, xticklabels=n/8, yticklabels=n/8)\n",
    "plt.savefig(\"figures/read_mapWL_{}.png\".format(n), dpi=300)"
   ]
  },
  {
   "cell_type": "code",
   "execution_count": 88,
   "metadata": {
    "collapsed": false,
    "deletable": true,
    "editable": true
   },
   "outputs": [
    {
     "data": {
      "image/png": "[encoded data removed]",
      "text/plain": [
       "<matplotlib.figure.Figure at 0x109ce7550>"
      ]
     },
     "metadata": {},
     "output_type": "display_data"
    }
   ],
   "source": [
    "if n < 9:\n",
    "    sns.heatmap(BLvoltagesList[2], square=True)\n",
    "else:\n",
    "    sns.heatmap(BLvoltagesList[2], square=True, xticklabels=n/8, yticklabels=n/8)\n",
    "plt.savefig(\"figures/read_mapBL_{}.png\".format(n), dpi=300, figsize=(10,10))"
   ]
  },
  {
   "cell_type": "code",
   "execution_count": 89,
   "metadata": {
    "collapsed": false,
    "deletable": true,
    "editable": true
   },
   "outputs": [
    {
     "data": {
      "image/png": "[encoded data removed]",
      "text/plain": [
       "<matplotlib.figure.Figure at 0x10337e450>"
      ]
     },
     "metadata": {},
     "output_type": "display_data"
    }
   ],
   "source": [
    "if n < 9:\n",
    "    sns.heatmap(cellVoltagesList[2], square=True)\n",
    "else:\n",
    "    sns.heatmap(cellVoltagesList[2], square=True, xticklabels=n/8, yticklabels=n/8)\n",
    "plt.savefig(\"figures/read_mapCell_{}.png\".format(n), dpi=300, figsize=(10,10))"
   ]
  },
  {
   "cell_type": "code",
   "execution_count": 90,
   "metadata": {
    "collapsed": false,
    "deletable": true,
    "editable": true
   },
   "outputs": [
    {
     "data": {
      "image/png": "[encoded data removed]",
      "text/plain": [
       "<matplotlib.figure.Figure at 0x101ca8910>"
      ]
     },
     "metadata": {},
     "output_type": "display_data"
    }
   ],
   "source": [
    "plt.plot(vRead, hubList, vRead, lsbList)\n",
    "plt.plot([0.5, 4], [1.1, 1.1], [0.5, 4], [2.2, 2.2], c='gray', ls='--')\n",
    "plt.plot([0.5, 4], [1.2, 1.2], c='gray', ls='--')\n",
    "plt.xlim([0,4.5])\n",
    "plt.ylim([0,4.5])\n",
    "plt.ylabel(\"Vcell\")\n",
    "plt.xlabel(\"Vread\")\n",
    "plt.savefig(\"figures/read_margin_{}.png\".format(n), dpi=300, figsize=(10,12))\n",
    "plt.show()"
   ]
  },
  {
   "cell_type": "code",
   "execution_count": null,
   "metadata": {
    "collapsed": true,
    "deletable": true,
    "editable": true
   },
   "outputs": [],
   "source": []
  }
 ],
 "metadata": {
  "kernelspec": {
   "display_name": "Python 2",
   "language": "python",
   "name": "python2"
  },
  "language_info": {
   "codemirror_mode": {
    "name": "ipython",
    "version": 2
   },
   "file_extension": ".py",
   "mimetype": "text/x-python",
   "name": "python",
   "nbconvert_exporter": "python",
   "pygments_lexer": "ipython2",
   "version": "2.7.13"
  }
 },
 "nbformat": 4,
 "nbformat_minor": 2
}
