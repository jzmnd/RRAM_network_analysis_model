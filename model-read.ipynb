{
 "cells": [
  {
   "cell_type": "code",
   "execution_count": 134,
   "metadata": {
    "collapsed": true,
    "deletable": true,
    "editable": true
   },
   "outputs": [],
   "source": [
    "%matplotlib inline"
   ]
  },
  {
   "cell_type": "code",
   "execution_count": 135,
   "metadata": {
    "collapsed": true,
    "deletable": true,
    "editable": true
   },
   "outputs": [],
   "source": [
    "import numpy as np\n",
    "from scipy.sparse.linalg import spsolve\n",
    "from scipy.sparse import csr_matrix\n",
    "import matplotlib.pyplot as plt\n",
    "import seaborn as sns\n",
    "from condlib import conductance_matrix_READ\n",
    "from timeit import default_timer as timer"
   ]
  },
  {
   "cell_type": "code",
   "execution_count": 136,
   "metadata": {
    "collapsed": false,
    "deletable": true,
    "editable": true
   },
   "outputs": [],
   "source": [
    "# Memory array parameters\n",
    "rL = 12\n",
    "rHRS = 1e6\n",
    "rPU = 1e3\n",
    "n = 16\n",
    "vRead = [0.5, 1.0, 1.6, 2.0, 2.5, 3.0, 4.0]"
   ]
  },
  {
   "cell_type": "code",
   "execution_count": 137,
   "metadata": {
    "collapsed": true,
    "deletable": true,
    "editable": true
   },
   "outputs": [],
   "source": [
    "hubList = []\n",
    "lsbList = []\n",
    "WLvoltagesList = []\n",
    "BLvoltagesList = []\n",
    "cellVoltagesList = []\n",
    "mask = np.ones((n, n), dtype=bool)\n",
    "mask[n-1][n-1] = False"
   ]
  },
  {
   "cell_type": "code",
   "execution_count": 138,
   "metadata": {
    "collapsed": false,
    "deletable": true,
    "editable": true
   },
   "outputs": [
    {
     "name": "stdout",
     "output_type": "stream",
     "text": [
      "0.0077 sec\n",
      "Write voltage          : 0.5000 V\n",
      "Highest unselected bit : 0.2380 V\n",
      "Lowest selected bit    : 0.4911 V\n",
      "0.0052 sec\n",
      "Write voltage          : 1.0000 V\n",
      "Highest unselected bit : 0.4760 V\n",
      "Lowest selected bit    : 0.9822 V\n",
      "0.0067 sec\n",
      "Write voltage          : 1.6000 V\n",
      "Highest unselected bit : 0.7615 V\n",
      "Lowest selected bit    : 1.5715 V\n",
      "0.0048 sec\n",
      "Write voltage          : 2.0000 V\n",
      "Highest unselected bit : 0.9519 V\n",
      "Lowest selected bit    : 1.9644 V\n",
      "0.0054 sec\n",
      "Write voltage          : 2.5000 V\n",
      "Highest unselected bit : 1.1899 V\n",
      "Lowest selected bit    : 2.4555 V\n",
      "0.0058 sec\n",
      "Write voltage          : 3.0000 V\n",
      "Highest unselected bit : 1.4279 V\n",
      "Lowest selected bit    : 2.9467 V\n",
      "0.0049 sec\n",
      "Write voltage          : 4.0000 V\n",
      "Highest unselected bit : 1.9038 V\n",
      "Lowest selected bit    : 3.9289 V\n"
     ]
    }
   ],
   "source": [
    "for v in vRead:\n",
    "    # Voltages for BLs and WLs (read voltages, unselected floating)\n",
    "    vBLsel = 0.0\n",
    "    vWLsel = v\n",
    "\n",
    "    start_t = timer()\n",
    "    # Create conductance matrix\n",
    "    conductancematrix, iinvector = conductance_matrix_READ(n, rL, rHRS, rPU,\n",
    "                                                           vWLsel, vBLsel,\n",
    "                                                           isel=n-1, jsel=n-1, verbose=False)\n",
    "    # Convert to sparse matrix (CSR)\n",
    "    conductancematrix = csr_matrix(conductancematrix)\n",
    "    # Solve\n",
    "    voltages = spsolve(conductancematrix, iinvector)\n",
    "    stop_t = timer()\n",
    "\n",
    "    # Separate WL and BL nodes and calculate cell voltages\n",
    "    WLvoltages = voltages[:n*n].reshape((n, n))\n",
    "    BLvoltages = voltages[n*n:].reshape((n, n))\n",
    "    WLvoltagesList.append(WLvoltages)\n",
    "    BLvoltagesList.append(BLvoltages)\n",
    "\n",
    "    cellVoltages = abs(BLvoltages - WLvoltages)\n",
    "    cellVoltagesList.append(cellVoltages)\n",
    "\n",
    "    # Calculate Highest Unselected Bit and Lowest Selected Bit\n",
    "    hub = np.max(cellVoltages[mask])\n",
    "    lsb = cellVoltages[n-1][n-1]\n",
    "    hubList.append(hub)\n",
    "    lsbList.append(lsb)\n",
    "    \n",
    "    print \"{:.4f} sec\".format(stop_t - start_t)\n",
    "    print \"Write voltage          : {:.4f} V\".format(v)\n",
    "    print \"Highest unselected bit : {:.4f} V\".format(hub)\n",
    "    print \"Lowest selected bit    : {:.4f} V\".format(lsb)"
   ]
  },
  {
   "cell_type": "code",
   "execution_count": 139,
   "metadata": {
    "collapsed": false,
    "deletable": true,
    "editable": true
   },
   "outputs": [
    {
     "data": {
      "image/png": "[encoded data removed]",
      "text/plain": [
       "<matplotlib.figure.Figure at 0x10e8ccc50>"
      ]
     },
     "metadata": {},
     "output_type": "display_data"
    }
   ],
   "source": [
    "if n < 9:\n",
    "    sns.heatmap(WLvoltagesList[2], square=True)\n",
    "else:\n",
    "    sns.heatmap(WLvoltagesList[2], square=True, xticklabels=n/8, yticklabels=n/8)\n",
    "plt.savefig(\"figures/read_mapWL_{}.png\".format(n), dpi=300)"
   ]
  },
  {
   "cell_type": "code",
   "execution_count": 140,
   "metadata": {
    "collapsed": false,
    "deletable": true,
    "editable": true
   },
   "outputs": [
    {
     "data": {
      "image/png": "[encoded data removed]",
      "text/plain": [
       "<matplotlib.figure.Figure at 0x1091ab910>"
      ]
     },
     "metadata": {},
     "output_type": "display_data"
    }
   ],
   "source": [
    "if n < 9:\n",
    "    sns.heatmap(BLvoltagesList[2], square=True)\n",
    "else:\n",
    "    sns.heatmap(BLvoltagesList[2], square=True, xticklabels=n/8, yticklabels=n/8)\n",
    "plt.savefig(\"figures/read_mapBL_{}.png\".format(n), dpi=300, figsize=(10,10))"
   ]
  },
  {
   "cell_type": "code",
   "execution_count": 141,
   "metadata": {
    "collapsed": false,
    "deletable": true,
    "editable": true
   },
   "outputs": [
    {
     "data": {
      "image/png": "[encoded data removed]",
      "text/plain": [
       "<matplotlib.figure.Figure at 0x10fd9a2d0>"
      ]
     },
     "metadata": {},
     "output_type": "display_data"
    }
   ],
   "source": [
    "if n < 9:\n",
    "    sns.heatmap(cellVoltagesList[2], square=True)\n",
    "else:\n",
    "    sns.heatmap(cellVoltagesList[2], square=True, xticklabels=n/8, yticklabels=n/8)\n",
    "plt.savefig(\"figures/read_mapCell_{}.png\".format(n), dpi=300, figsize=(10,10))"
   ]
  },
  {
   "cell_type": "code",
   "execution_count": 142,
   "metadata": {
    "collapsed": false,
    "deletable": true,
    "editable": true
   },
   "outputs": [
    {
     "data": {
      "image/png": "[encoded data removed]",
      "text/plain": [
       "<matplotlib.figure.Figure at 0x10e90f410>"
      ]
     },
     "metadata": {},
     "output_type": "display_data"
    }
   ],
   "source": [
    "plt.plot(vRead, hubList, vRead, lsbList)\n",
    "plt.plot([0.5, 4], [1.1, 1.1], [0.5, 4], [2.2, 2.2], c='gray', ls='--')\n",
    "plt.plot([0.5, 4], [1.2, 1.2], c='gray', ls='--')\n",
    "plt.xlim([0,4.5])\n",
    "plt.ylim([0,4.5])\n",
    "plt.ylabel(\"Vcell\")\n",
    "plt.xlabel(\"Vread\")\n",
    "plt.savefig(\"figures/read_margin_{}.png\".format(n), dpi=300, figsize=(10,12))\n",
    "plt.show()"
   ]
  },
  {
   "cell_type": "code",
   "execution_count": 143,
   "metadata": {
    "collapsed": false,
    "deletable": true,
    "editable": true
   },
   "outputs": [
    {
     "name": "stdout",
     "output_type": "stream",
     "text": [
      "[ 1.22172479  2.23982878]\n",
      "2.31112066614\n"
     ]
    }
   ],
   "source": [
    "# Find window\n",
    "windowlsb = np.interp([1.2, 2.2], lsbList, vRead)\n",
    "windowhub = np.interp(1.1, hubList, vRead)\n",
    "print windowlsb\n",
    "print windowhub"
   ]
  },
  {
   "cell_type": "code",
   "execution_count": 144,
   "metadata": {
    "collapsed": false
   },
   "outputs": [],
   "source": [
    "# Output data to csv\n",
    "np.savetxt(\"data/read_margin_{}.csv\".format(n),\n",
    "           np.vstack((vRead, lsbList, hubList)).T,\n",
    "           delimiter=',',\n",
    "           header=\"Vread,VcellLSB,VcellHUB\",\n",
    "           footer=\",WindowLSB = {} - {}, WindowHSB < {}\".format(windowlsb[0], windowlsb[1], windowhub),\n",
    "           comments='')\n",
    "np.savetxt(\"data/read_mapCell_{}.csv\".format(n),\n",
    "           cellVoltagesList[2],\n",
    "           delimiter=',')\n",
    "np.savetxt(\"data/read_mapWL_{}.csv\".format(n),\n",
    "           WLvoltagesList[2],\n",
    "           delimiter=',')\n",
    "np.savetxt(\"data/read_mapBL_{}.csv\".format(n),\n",
    "           BLvoltagesList[2],\n",
    "           delimiter=',')"
   ]
  },
  {
   "cell_type": "code",
   "execution_count": null,
   "metadata": {
    "collapsed": true
   },
   "outputs": [],
   "source": []
  }
 ],
 "metadata": {
  "kernelspec": {
   "display_name": "Python 2",
   "language": "python",
   "name": "python2"
  },
  "language_info": {
   "codemirror_mode": {
    "name": "ipython",
    "version": 2
   },
   "file_extension": ".py",
   "mimetype": "text/x-python",
   "name": "python",
   "nbconvert_exporter": "python",
   "pygments_lexer": "ipython2",
   "version": "2.7.13"
  }
 },
 "nbformat": 4,
 "nbformat_minor": 2
}
