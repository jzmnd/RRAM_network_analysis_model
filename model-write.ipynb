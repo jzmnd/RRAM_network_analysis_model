{
 "cells": [
  {
   "cell_type": "code",
   "execution_count": 65,
   "metadata": {
    "collapsed": true,
    "deletable": true,
    "editable": true
   },
   "outputs": [],
   "source": [
    "%matplotlib inline"
   ]
  },
  {
   "cell_type": "code",
   "execution_count": 66,
   "metadata": {
    "collapsed": true,
    "deletable": true,
    "editable": true
   },
   "outputs": [],
   "source": [
    "import numpy as np\n",
    "from scipy.sparse.linalg import spsolve\n",
    "from scipy.sparse import csr_matrix\n",
    "import matplotlib.pyplot as plt\n",
    "import seaborn as sns\n",
    "from condlib import conductance_matrix_WRITE\n",
    "from timeit import default_timer as timer"
   ]
  },
  {
   "cell_type": "code",
   "execution_count": 67,
   "metadata": {
    "collapsed": false,
    "deletable": true,
    "editable": true
   },
   "outputs": [],
   "source": [
    "# Memory array parameters\n",
    "rL = 4.8\n",
    "rHRS = 1e6\n",
    "n = 16\n",
    "vWrite = [0.5, 1.0, 2.0, 3.0, 4.0, 5.0, 6.0]"
   ]
  },
  {
   "cell_type": "code",
   "execution_count": 68,
   "metadata": {
    "collapsed": true,
    "deletable": true,
    "editable": true
   },
   "outputs": [],
   "source": [
    "hubList = []\n",
    "lsbList = []\n",
    "WLvoltagesList = []\n",
    "BLvoltagesList = []\n",
    "cellVoltagesList = []\n",
    "mask = np.ones((n, n), dtype=bool)\n",
    "mask[n-1][n-1] = False"
   ]
  },
  {
   "cell_type": "code",
   "execution_count": 69,
   "metadata": {
    "collapsed": false,
    "deletable": true,
    "editable": true
   },
   "outputs": [
    {
     "name": "stdout",
     "output_type": "stream",
     "text": [
      "0.0116 sec\n",
      "Write voltage          : 0.5000 V\n",
      "Highest unselected bit : 0.1667 V\n",
      "Lowest selected bit    : 0.4997 V\n",
      "0.0047 sec\n",
      "Write voltage          : 1.0000 V\n",
      "Highest unselected bit : 0.3335 V\n",
      "Lowest selected bit    : 0.9995 V\n",
      "0.0051 sec\n",
      "Write voltage          : 2.0000 V\n",
      "Highest unselected bit : 0.6669 V\n",
      "Lowest selected bit    : 1.9989 V\n",
      "0.0045 sec\n",
      "Write voltage          : 3.0000 V\n",
      "Highest unselected bit : 1.0004 V\n",
      "Lowest selected bit    : 2.9984 V\n",
      "0.0049 sec\n",
      "Write voltage          : 4.0000 V\n",
      "Highest unselected bit : 1.3339 V\n",
      "Lowest selected bit    : 3.9979 V\n",
      "0.0047 sec\n",
      "Write voltage          : 5.0000 V\n",
      "Highest unselected bit : 1.6674 V\n",
      "Lowest selected bit    : 4.9973 V\n",
      "0.0046 sec\n",
      "Write voltage          : 6.0000 V\n",
      "Highest unselected bit : 2.0008 V\n",
      "Lowest selected bit    : 5.9968 V\n"
     ]
    }
   ],
   "source": [
    "for v in vWrite:\n",
    "    # Voltages for BLs and WLs (V/3 write scheme in this case)\n",
    "    vBLsel = 0.0\n",
    "    vBLnsel = 2.0 * v / 3.0\n",
    "    vWLsel = v\n",
    "    vWLnsel = 1.0 * v / 3.0\n",
    "\n",
    "    start_t = timer()\n",
    "    # Create conductance matrix\n",
    "    conductancematrix, iinvector = conductance_matrix_WRITE(n, rL, rHRS,\n",
    "                                                            vWLsel, vWLnsel, vBLsel, vBLnsel,\n",
    "                                                            isel=n-1, jsel=n-1, verbose=False)\n",
    "    # Convert to sparse matrix (CSR)\n",
    "    conductancematrix = csr_matrix(conductancematrix)\n",
    "    # Solve\n",
    "    voltages = spsolve(conductancematrix, iinvector)\n",
    "    stop_t = timer()\n",
    "\n",
    "    # Separate WL and BL nodes and calculate cell voltages\n",
    "    WLvoltages = voltages[:n*n].reshape((n, n))\n",
    "    BLvoltages = voltages[n*n:].reshape((n, n))\n",
    "    WLvoltagesList.append(WLvoltages)\n",
    "    BLvoltagesList.append(BLvoltages)\n",
    "\n",
    "    cellVoltages = abs(BLvoltages - WLvoltages)\n",
    "    cellVoltagesList.append(cellVoltages)\n",
    "\n",
    "    # Calculate Highest Unselected Bit and Lowest Selected Bit\n",
    "    hub = np.max(cellVoltages[mask])\n",
    "    lsb = cellVoltages[n-1][n-1]\n",
    "    hubList.append(hub)\n",
    "    lsbList.append(lsb)\n",
    "    \n",
    "    print \"{:.4f} sec\".format(stop_t - start_t)\n",
    "    print \"Write voltage          : {:.4f} V\".format(v)\n",
    "    print \"Highest unselected bit : {:.4f} V\".format(hub)\n",
    "    print \"Lowest selected bit    : {:.4f} V\".format(lsb)"
   ]
  },
  {
   "cell_type": "code",
   "execution_count": 70,
   "metadata": {
    "collapsed": false,
    "deletable": true,
    "editable": true
   },
   "outputs": [
    {
     "data": {
      "image/png": "[encoded data removed]",
      "text/plain": [
       "<matplotlib.figure.Figure at 0x10bb6ac90>"
      ]
     },
     "metadata": {},
     "output_type": "display_data"
    }
   ],
   "source": [
    "sns.heatmap(WLvoltagesList[3], square=True, xticklabels=n/8, yticklabels=n/8)\n",
    "plt.savefig(\"figures/write_mapWL_{}.png\".format(n), dpi=300, figsize=(10,10))"
   ]
  },
  {
   "cell_type": "code",
   "execution_count": 71,
   "metadata": {
    "collapsed": false,
    "deletable": true,
    "editable": true
   },
   "outputs": [
    {
     "data": {
      "image/png": "[encoded data removed]",
      "text/plain": [
       "<matplotlib.figure.Figure at 0x10bb62290>"
      ]
     },
     "metadata": {},
     "output_type": "display_data"
    }
   ],
   "source": [
    "sns.heatmap(BLvoltagesList[3], square=True, xticklabels=n/8, yticklabels=n/8)\n",
    "plt.savefig(\"figures/write_mapBL_{}.png\".format(n), dpi=300, figsize=(10,10))"
   ]
  },
  {
   "cell_type": "code",
   "execution_count": 72,
   "metadata": {
    "collapsed": false,
    "deletable": true,
    "editable": true
   },
   "outputs": [
    {
     "data": {
      "image/png": "[encoded data removed]",
      "text/plain": [
       "<matplotlib.figure.Figure at 0x109842f10>"
      ]
     },
     "metadata": {},
     "output_type": "display_data"
    }
   ],
   "source": [
    "sns.heatmap(cellVoltagesList[3], square=True, xticklabels=n/8, yticklabels=n/8)\n",
    "plt.savefig(\"figures/write_mapCell_{}.png\".format(n), dpi=300, figsize=(10,10))"
   ]
  },
  {
   "cell_type": "code",
   "execution_count": 73,
   "metadata": {
    "collapsed": false,
    "deletable": true,
    "editable": true
   },
   "outputs": [
    {
     "data": {
      "image/png": "[encoded data removed]",
      "text/plain": [
       "<matplotlib.figure.Figure at 0x10aa63dd0>"
      ]
     },
     "metadata": {},
     "output_type": "display_data"
    }
   ],
   "source": [
    "plt.plot(vWrite, hubList, vWrite, lsbList)\n",
    "plt.plot([0.5, 6], [2.8, 2.8], [0.5, 6], [1.1, 1.1], c='gray', ls='--')\n",
    "plt.plot([0.5, 6], [1.8, 1.8], c='lightgray', ls='--')\n",
    "plt.xlim([0,6.5])\n",
    "plt.ylim([0,6.5])\n",
    "plt.ylabel(\"Vcell\")\n",
    "plt.xlabel(\"Vwrite\")\n",
    "plt.savefig(\"figures/write_margin_{}.png\".format(n), dpi=300, figsize=(10,12))\n",
    "plt.show()"
   ]
  },
  {
   "cell_type": "code",
   "execution_count": null,
   "metadata": {
    "collapsed": true,
    "deletable": true,
    "editable": true
   },
   "outputs": [],
   "source": []
  }
 ],
 "metadata": {
  "kernelspec": {
   "display_name": "Python 2",
   "language": "python",
   "name": "python2"
  },
  "language_info": {
   "codemirror_mode": {
    "name": "ipython",
    "version": 2
   },
   "file_extension": ".py",
   "mimetype": "text/x-python",
   "name": "python",
   "nbconvert_exporter": "python",
   "pygments_lexer": "ipython2",
   "version": "2.7.13"
  }
 },
 "nbformat": 4,
 "nbformat_minor": 2
}
