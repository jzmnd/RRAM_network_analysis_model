{
 "cells": [
  {
   "cell_type": "code",
   "execution_count": 141,
   "metadata": {
    "collapsed": true,
    "deletable": true,
    "editable": true
   },
   "outputs": [],
   "source": [
    "%matplotlib inline"
   ]
  },
  {
   "cell_type": "code",
   "execution_count": 142,
   "metadata": {
    "collapsed": true,
    "deletable": true,
    "editable": true
   },
   "outputs": [],
   "source": [
    "import numpy as np\n",
    "from scipy.sparse.linalg import spsolve\n",
    "from scipy.sparse import csr_matrix\n",
    "import matplotlib.pyplot as plt\n",
    "import seaborn as sns\n",
    "from condlib import conductance_matrix_WRITE\n",
    "from timeit import default_timer as timer"
   ]
  },
  {
   "cell_type": "code",
   "execution_count": 143,
   "metadata": {
    "collapsed": false,
    "deletable": true,
    "editable": true
   },
   "outputs": [],
   "source": [
    "# Memory array parameters\n",
    "rL = 12\n",
    "rHRS = 1e6\n",
    "n = 16\n",
    "vWrite = [0.5, 1.0, 2.0, 3.0, 4.0, 5.0, 6.0]"
   ]
  },
  {
   "cell_type": "code",
   "execution_count": 144,
   "metadata": {
    "collapsed": true,
    "deletable": true,
    "editable": true
   },
   "outputs": [],
   "source": [
    "hubList = []\n",
    "lsbList = []\n",
    "WLvoltagesList = []\n",
    "BLvoltagesList = []\n",
    "cellVoltagesList = []\n",
    "mask = np.ones((n, n), dtype=bool)\n",
    "mask[n-1][n-1] = False"
   ]
  },
  {
   "cell_type": "code",
   "execution_count": 145,
   "metadata": {
    "collapsed": false,
    "deletable": true,
    "editable": true
   },
   "outputs": [
    {
     "name": "stdout",
     "output_type": "stream",
     "text": [
      "0.0077 sec\n",
      "Write voltage          : 0.5000 V\n",
      "Highest unselected bit : 0.1668 V\n",
      "Lowest selected bit    : 0.4993 V\n",
      "0.0061 sec\n",
      "Write voltage          : 1.0000 V\n",
      "Highest unselected bit : 0.3337 V\n",
      "Lowest selected bit    : 0.9987 V\n",
      "0.0050 sec\n",
      "Write voltage          : 2.0000 V\n",
      "Highest unselected bit : 0.6674 V\n",
      "Lowest selected bit    : 1.9973 V\n",
      "0.0054 sec\n",
      "Write voltage          : 3.0000 V\n",
      "Highest unselected bit : 1.0010 V\n",
      "Lowest selected bit    : 2.9960 V\n",
      "0.0049 sec\n",
      "Write voltage          : 4.0000 V\n",
      "Highest unselected bit : 1.3347 V\n",
      "Lowest selected bit    : 3.9946 V\n",
      "0.0052 sec\n",
      "Write voltage          : 5.0000 V\n",
      "Highest unselected bit : 1.6684 V\n",
      "Lowest selected bit    : 4.9933 V\n",
      "0.0050 sec\n",
      "Write voltage          : 6.0000 V\n",
      "Highest unselected bit : 2.0021 V\n",
      "Lowest selected bit    : 5.9919 V\n"
     ]
    }
   ],
   "source": [
    "for v in vWrite:\n",
    "    # Voltages for BLs and WLs (V/3 write scheme in this case)\n",
    "    vBLsel = 0.0\n",
    "    vBLnsel = 2.0 * v / 3.0\n",
    "    vWLsel = v\n",
    "    vWLnsel = 1.0 * v / 3.0\n",
    "\n",
    "    start_t = timer()\n",
    "    # Create conductance matrix\n",
    "    conductancematrix, iinvector = conductance_matrix_WRITE(n, rL, rHRS,\n",
    "                                                            vWLsel, vWLnsel, vBLsel, vBLnsel,\n",
    "                                                            isel=n-1, jsel=n-1, verbose=False)\n",
    "    # Convert to sparse matrix (CSR)\n",
    "    conductancematrix = csr_matrix(conductancematrix)\n",
    "    # Solve\n",
    "    voltages = spsolve(conductancematrix, iinvector)\n",
    "    stop_t = timer()\n",
    "\n",
    "    # Separate WL and BL nodes and calculate cell voltages\n",
    "    WLvoltages = voltages[:n*n].reshape((n, n))\n",
    "    BLvoltages = voltages[n*n:].reshape((n, n))\n",
    "    WLvoltagesList.append(WLvoltages)\n",
    "    BLvoltagesList.append(BLvoltages)\n",
    "\n",
    "    cellVoltages = abs(BLvoltages - WLvoltages)\n",
    "    cellVoltagesList.append(cellVoltages)\n",
    "\n",
    "    # Calculate Highest Unselected Bit and Lowest Selected Bit\n",
    "    hub = np.max(cellVoltages[mask])\n",
    "    lsb = cellVoltages[n-1][n-1]\n",
    "    hubList.append(hub)\n",
    "    lsbList.append(lsb)\n",
    "    \n",
    "    print \"{:.4f} sec\".format(stop_t - start_t)\n",
    "    print \"Write voltage          : {:.4f} V\".format(v)\n",
    "    print \"Highest unselected bit : {:.4f} V\".format(hub)\n",
    "    print \"Lowest selected bit    : {:.4f} V\".format(lsb)"
   ]
  },
  {
   "cell_type": "code",
   "execution_count": 146,
   "metadata": {
    "collapsed": false,
    "deletable": true,
    "editable": true
   },
   "outputs": [
    {
     "data": {
      "image/png": "[encoded data removed]",
      "text/plain": [
       "<matplotlib.figure.Figure at 0x108903f90>"
      ]
     },
     "metadata": {},
     "output_type": "display_data"
    }
   ],
   "source": [
    "if n < 9:\n",
    "    sns.heatmap(WLvoltagesList[3], square=True)\n",
    "else:\n",
    "    sns.heatmap(WLvoltagesList[3], square=True, xticklabels=n/8, yticklabels=n/8)\n",
    "plt.savefig(\"figures/write_mapWL_{}.png\".format(n), dpi=300, figsize=(10,10))"
   ]
  },
  {
   "cell_type": "code",
   "execution_count": 147,
   "metadata": {
    "collapsed": false,
    "deletable": true,
    "editable": true
   },
   "outputs": [
    {
     "data": {
      "image/png": "[encoded data removed]",
      "text/plain": [
       "<matplotlib.figure.Figure at 0x106f91810>"
      ]
     },
     "metadata": {},
     "output_type": "display_data"
    }
   ],
   "source": [
    "if n < 9:\n",
    "    sns.heatmap(BLvoltagesList[3], square=True)\n",
    "else:\n",
    "    sns.heatmap(BLvoltagesList[3], square=True, xticklabels=n/8, yticklabels=n/8)\n",
    "plt.savefig(\"figures/write_mapBL_{}.png\".format(n), dpi=300, figsize=(10,10))"
   ]
  },
  {
   "cell_type": "code",
   "execution_count": 148,
   "metadata": {
    "collapsed": false,
    "deletable": true,
    "editable": true
   },
   "outputs": [
    {
     "data": {
      "image/png": "[encoded data removed]",
      "text/plain": [
       "<matplotlib.figure.Figure at 0x10873bc90>"
      ]
     },
     "metadata": {},
     "output_type": "display_data"
    }
   ],
   "source": [
    "if n < 9:\n",
    "    sns.heatmap(cellVoltagesList[3], square=True)\n",
    "else:\n",
    "    sns.heatmap(cellVoltagesList[3], square=True, xticklabels=n/8, yticklabels=n/8)\n",
    "plt.savefig(\"figures/write_mapCell_{}.png\".format(n), dpi=300, figsize=(10,10))"
   ]
  },
  {
   "cell_type": "code",
   "execution_count": 149,
   "metadata": {
    "collapsed": false,
    "deletable": true,
    "editable": true
   },
   "outputs": [
    {
     "data": {
      "image/png": "[encoded data removed]",
      "text/plain": [
       "<matplotlib.figure.Figure at 0x107044c10>"
      ]
     },
     "metadata": {},
     "output_type": "display_data"
    }
   ],
   "source": [
    "plt.plot(vWrite, hubList, vWrite, lsbList)\n",
    "plt.plot([0.5, 6], [2.8, 2.8], [0.5, 6], [1.1, 1.1], c='gray', ls='--')\n",
    "plt.plot([0.5, 6], [1.8, 1.8], c='lightgray', ls='--')\n",
    "plt.xlim([0,6.5])\n",
    "plt.ylim([0,6.5])\n",
    "plt.ylabel(\"Vcell\")\n",
    "plt.xlabel(\"Vwrite\")\n",
    "plt.savefig(\"figures/write_margin_{}.png\".format(n), dpi=300, figsize=(10,12))\n",
    "plt.show()"
   ]
  },
  {
   "cell_type": "code",
   "execution_count": 150,
   "metadata": {
    "collapsed": false,
    "deletable": true,
    "editable": true
   },
   "outputs": [
    {
     "name": "stdout",
     "output_type": "stream",
     "text": [
      "2.80376593193\n",
      "3.29660428233\n"
     ]
    }
   ],
   "source": [
    "# Find window\n",
    "windowlsb = np.interp(2.8, lsbList, vWrite)\n",
    "windowhub = np.interp(1.1, hubList, vWrite)\n",
    "print windowlsb\n",
    "print windowhub"
   ]
  },
  {
   "cell_type": "code",
   "execution_count": 151,
   "metadata": {
    "collapsed": true
   },
   "outputs": [],
   "source": [
    "# Output data to csv\n",
    "np.savetxt(\"data/write_margin_{}.csv\".format(n),\n",
    "           np.vstack((vWrite, lsbList, hubList)).T,\n",
    "           delimiter=',',\n",
    "           header=\"Vwrite,VcellLSB,VcellHUB\",\n",
    "           footer=\",WindowLSB > {}, WindowHSB < {}\".format(windowlsb, windowhub),\n",
    "           comments='')\n",
    "np.savetxt(\"data/write_mapCell_{}.csv\".format(n),\n",
    "           cellVoltagesList[3],\n",
    "           delimiter=',')\n",
    "np.savetxt(\"data/write_mapWL_{}.csv\".format(n),\n",
    "           WLvoltagesList[3],\n",
    "           delimiter=',')\n",
    "np.savetxt(\"data/write_mapBL_{}.csv\".format(n),\n",
    "           BLvoltagesList[3],\n",
    "           delimiter=',')"
   ]
  },
  {
   "cell_type": "code",
   "execution_count": null,
   "metadata": {
    "collapsed": true
   },
   "outputs": [],
   "source": []
  }
 ],
 "metadata": {
  "kernelspec": {
   "display_name": "Python 2",
   "language": "python",
   "name": "python2"
  },
  "language_info": {
   "codemirror_mode": {
    "name": "ipython",
    "version": 2
   },
   "file_extension": ".py",
   "mimetype": "text/x-python",
   "name": "python",
   "nbconvert_exporter": "python",
   "pygments_lexer": "ipython2",
   "version": "2.7.13"
  }
 },
 "nbformat": 4,
 "nbformat_minor": 2
}
