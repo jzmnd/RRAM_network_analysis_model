{
 "cells": [
  {
   "cell_type": "code",
   "execution_count": 355,
   "metadata": {
    "collapsed": true,
    "deletable": true,
    "editable": true
   },
   "outputs": [],
   "source": [
    "%matplotlib inline"
   ]
  },
  {
   "cell_type": "code",
   "execution_count": 356,
   "metadata": {
    "collapsed": true,
    "deletable": true,
    "editable": true
   },
   "outputs": [],
   "source": [
    "import numpy as np\n",
    "from scipy.sparse.linalg import spsolve\n",
    "from scipy.sparse import csr_matrix\n",
    "import matplotlib.pyplot as plt\n",
    "import seaborn as sns\n",
    "from condlib import conductance_matrix_CAMREAD\n",
    "from timeit import default_timer as timer"
   ]
  },
  {
   "cell_type": "code",
   "execution_count": 357,
   "metadata": {
    "collapsed": false,
    "deletable": true,
    "editable": true
   },
   "outputs": [],
   "source": [
    "# Memory array parameters\n",
    "rL = 4.8\n",
    "rHRS = 1e6\n",
    "n = 16\n",
    "vRead = [0.5, 1.0, 1.6, 2.0, 2.5, 3.0, 4.0]\n",
    "\n",
    "np.random.seed(0)\n",
    "BLpattern_random = np.random.randint(0, 2, n).astype(bool)\n",
    "BLpattern_random[n - 1] = False           # set last bit to 0\n",
    "BLpattern_random[0] = False               # set first bit to 0\n",
    "BLpattern_ones = np.ones(n).astype(bool)\n",
    "BLpattern_ones[n - 1] = False             # set last bit to 0\n",
    "BLpattern_ones[0] = False                 # set first bit to 0\n",
    "BLpattern_zeros = np.zeros(n).astype(bool)\n",
    "\n",
    "pat_type = 'ones'"
   ]
  },
  {
   "cell_type": "code",
   "execution_count": 358,
   "metadata": {
    "collapsed": false,
    "deletable": true,
    "editable": true
   },
   "outputs": [],
   "source": [
    "hubList = []\n",
    "lsbList = []\n",
    "WLvoltagesList = []\n",
    "BLvoltagesList = []\n",
    "cellVoltagesList = []\n",
    "mask = np.vstack((np.ones((n-1, n), dtype=bool), np.zeros(n, dtype=bool)))"
   ]
  },
  {
   "cell_type": "code",
   "execution_count": 359,
   "metadata": {
    "collapsed": false,
    "deletable": true,
    "editable": true
   },
   "outputs": [
    {
     "name": "stdout",
     "output_type": "stream",
     "text": [
      "0.0049 sec\n",
      "Write voltage          : 0.5000 V\n",
      "Highest unselected bit : 0.2501 V\n",
      "Lowest selected bit    : 0.4998 V\n",
      "0.0062 sec\n",
      "Write voltage          : 1.0000 V\n",
      "Highest unselected bit : 0.5002 V\n",
      "Lowest selected bit    : 0.9996 V\n",
      "0.0056 sec\n",
      "Write voltage          : 1.6000 V\n",
      "Highest unselected bit : 0.8003 V\n",
      "Lowest selected bit    : 1.5993 V\n",
      "0.0043 sec\n",
      "Write voltage          : 2.0000 V\n",
      "Highest unselected bit : 1.0004 V\n",
      "Lowest selected bit    : 1.9991 V\n",
      "0.0054 sec\n",
      "Write voltage          : 2.5000 V\n",
      "Highest unselected bit : 1.2505 V\n",
      "Lowest selected bit    : 2.4989 V\n",
      "0.0043 sec\n",
      "Write voltage          : 3.0000 V\n",
      "Highest unselected bit : 1.5006 V\n",
      "Lowest selected bit    : 2.9987 V\n",
      "0.0042 sec\n",
      "Write voltage          : 4.0000 V\n",
      "Highest unselected bit : 2.0008 V\n",
      "Lowest selected bit    : 3.9982 V\n"
     ]
    }
   ],
   "source": [
    "for v in vRead:\n",
    "    # Voltages for BLs and WLs (read voltages, unselected WLs V/2, BL are 0 or V)\n",
    "    vWLsel = v\n",
    "    vWLnsel = v / 2.0\n",
    "    vBL0 = 0.0\n",
    "    vBL1 = v\n",
    "\n",
    "    if pat_type == 'random':\n",
    "        jpattern = BLpattern_random\n",
    "    if pat_type == 'ones':\n",
    "        jpattern = BLpattern_ones\n",
    "    if pat_type == 'zeros':\n",
    "        jpattern = BLpattern_zeros\n",
    "\n",
    "    start_t = timer()\n",
    "    # Create conductance matrix\n",
    "    conductancematrix, iinvector = conductance_matrix_CAMREAD(n, rL, rHRS,\n",
    "                                                              vWLsel, vWLnsel, vBL0, vBL1,\n",
    "                                                              isel=n-1, jpattern=jpattern, verbose=False)\n",
    "    # Convert to sparse matrix (CSR)\n",
    "    conductancematrix = csr_matrix(conductancematrix)\n",
    "    # Solve\n",
    "    voltages = spsolve(conductancematrix, iinvector)\n",
    "    stop_t = timer()\n",
    "\n",
    "    # Separate WL and BL nodes and calculate cell voltages\n",
    "    WLvoltages = voltages[:n*n].reshape((n, n))\n",
    "    BLvoltages = voltages[n*n:].reshape((n, n))\n",
    "    WLvoltagesList.append(WLvoltages)\n",
    "    BLvoltagesList.append(BLvoltages)\n",
    "\n",
    "    cellVoltages = abs(BLvoltages - WLvoltages)\n",
    "    cellVoltagesList.append(cellVoltages)\n",
    "\n",
    "    # Calculate Highest Unselected Bit and Lowest Selected Bit\n",
    "    hub = np.max(cellVoltages[mask])\n",
    "    lsb = cellVoltages[n-1][n-1]\n",
    "    hubList.append(hub)\n",
    "    lsbList.append(lsb)\n",
    "    \n",
    "    print \"{:.4f} sec\".format(stop_t - start_t)\n",
    "    print \"Write voltage          : {:.4f} V\".format(v)\n",
    "    print \"Highest unselected bit : {:.4f} V\".format(hub)\n",
    "    print \"Lowest selected bit    : {:.4f} V\".format(lsb)"
   ]
  },
  {
   "cell_type": "code",
   "execution_count": 360,
   "metadata": {
    "collapsed": false,
    "deletable": true,
    "editable": true
   },
   "outputs": [
    {
     "data": {
      "image/png": "[encoded data removed]",
      "text/plain": [
       "<matplotlib.figure.Figure at 0x1113cc810>"
      ]
     },
     "metadata": {},
     "output_type": "display_data"
    }
   ],
   "source": [
    "if n < 9:\n",
    "    sns.heatmap(WLvoltagesList[2], square=True)\n",
    "else:\n",
    "    sns.heatmap(WLvoltagesList[2], square=True, xticklabels=n/8, yticklabels=n/8)\n",
    "plt.savefig(\"figures/camread_mapWL_{}_{}.png\".format(pat_type, n), dpi=300, figsize=(10,10))"
   ]
  },
  {
   "cell_type": "code",
   "execution_count": 361,
   "metadata": {
    "collapsed": false,
    "deletable": true,
    "editable": true
   },
   "outputs": [
    {
     "data": {
      "image/png": "[encoded data removed]",
      "text/plain": [
       "<matplotlib.figure.Figure at 0x1112df050>"
      ]
     },
     "metadata": {},
     "output_type": "display_data"
    }
   ],
   "source": [
    "if n < 9:\n",
    "    sns.heatmap(BLvoltagesList[2], square=True)\n",
    "else:\n",
    "    sns.heatmap(BLvoltagesList[2], square=True, xticklabels=n/8, yticklabels=n/8)\n",
    "plt.savefig(\"figures/camread_mapBL_{}_{}.png\".format(pat_type, n), dpi=300, figsize=(10,10))"
   ]
  },
  {
   "cell_type": "code",
   "execution_count": 362,
   "metadata": {
    "collapsed": false,
    "deletable": true,
    "editable": true
   },
   "outputs": [
    {
     "data": {
      "image/png": "[encoded data removed]",
      "text/plain": [
       "<matplotlib.figure.Figure at 0x111553350>"
      ]
     },
     "metadata": {},
     "output_type": "display_data"
    }
   ],
   "source": [
    "if n < 9:\n",
    "    sns.heatmap(cellVoltagesList[2], square=True)\n",
    "else:\n",
    "    sns.heatmap(cellVoltagesList[2], square=True, xticklabels=n/8, yticklabels=n/8)\n",
    "plt.savefig(\"figures/camread_mapCell_{}_{}.png\".format(pat_type, n), dpi=300, figsize=(10,10))"
   ]
  },
  {
   "cell_type": "code",
   "execution_count": 363,
   "metadata": {
    "collapsed": false,
    "deletable": true,
    "editable": true
   },
   "outputs": [
    {
     "data": {
      "image/png": "[encoded data removed]",
      "text/plain": [
       "<matplotlib.figure.Figure at 0x1115c7410>"
      ]
     },
     "metadata": {},
     "output_type": "display_data"
    }
   ],
   "source": [
    "plt.plot(vRead, hubList, vRead, lsbList)\n",
    "plt.plot([0.5, 4], [1.1, 1.1], [0.5, 4], [2.2, 2.2], c='gray', ls='--')\n",
    "plt.plot([0.5, 4], [1.2, 1.2], c='gray', ls='--')\n",
    "plt.xlim([0,4.5])\n",
    "plt.ylim([0,4.5])\n",
    "plt.ylabel(\"Vcell\")\n",
    "plt.xlabel(\"Vread\")\n",
    "plt.savefig(\"figures/camread_margin_{}_{}.png\".format(pat_type, n), dpi=300, figsize=(10,12))\n",
    "plt.show()"
   ]
  },
  {
   "cell_type": "code",
   "execution_count": null,
   "metadata": {
    "collapsed": false,
    "deletable": true,
    "editable": true
   },
   "outputs": [],
   "source": []
  }
 ],
 "metadata": {
  "kernelspec": {
   "display_name": "Python 2",
   "language": "python",
   "name": "python2"
  },
  "language_info": {
   "codemirror_mode": {
    "name": "ipython",
    "version": 2
   },
   "file_extension": ".py",
   "mimetype": "text/x-python",
   "name": "python",
   "nbconvert_exporter": "python",
   "pygments_lexer": "ipython2",
   "version": "2.7.13"
  }
 },
 "nbformat": 4,
 "nbformat_minor": 2
}
