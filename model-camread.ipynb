{
 "cells": [
  {
   "cell_type": "code",
   "execution_count": 159,
   "metadata": {
    "collapsed": true,
    "deletable": true,
    "editable": true
   },
   "outputs": [],
   "source": [
    "%matplotlib inline"
   ]
  },
  {
   "cell_type": "code",
   "execution_count": 160,
   "metadata": {
    "collapsed": true,
    "deletable": true,
    "editable": true
   },
   "outputs": [],
   "source": [
    "import numpy as np\n",
    "from scipy.sparse.linalg import spsolve\n",
    "from scipy.sparse import csr_matrix\n",
    "import matplotlib.pyplot as plt\n",
    "import seaborn as sns\n",
    "from condlib import conductance_matrix_CAMREAD\n",
    "from timeit import default_timer as timer"
   ]
  },
  {
   "cell_type": "code",
   "execution_count": 161,
   "metadata": {
    "collapsed": false,
    "deletable": true,
    "editable": true
   },
   "outputs": [],
   "source": [
    "# Memory array parameters\n",
    "rL = 12\n",
    "rHRS = 1e6\n",
    "n = 16\n",
    "vRead = [0.5, 1.0, 1.6, 2.0, 2.5, 3.0, 4.0]\n",
    "\n",
    "np.random.seed(0)\n",
    "BLpattern_random = np.random.randint(0, 2, n).astype(bool)\n",
    "BLpattern_random[n - 1] = False           # set last bit to 0\n",
    "BLpattern_random[0] = False               # set first bit to 0\n",
    "BLpattern_ones = np.ones(n).astype(bool)\n",
    "BLpattern_ones[n - 1] = False             # set last bit to 0\n",
    "BLpattern_ones[0] = False                 # set first bit to 0\n",
    "BLpattern_zeros = np.zeros(n).astype(bool)\n",
    "\n",
    "pat_type = 'random'"
   ]
  },
  {
   "cell_type": "code",
   "execution_count": 162,
   "metadata": {
    "collapsed": false,
    "deletable": true,
    "editable": true
   },
   "outputs": [],
   "source": [
    "hubList = []\n",
    "lsbList = []\n",
    "WLvoltagesList = []\n",
    "BLvoltagesList = []\n",
    "cellVoltagesList = []\n",
    "mask = np.vstack((np.ones((n-1, n), dtype=bool), np.zeros(n, dtype=bool)))"
   ]
  },
  {
   "cell_type": "code",
   "execution_count": 163,
   "metadata": {
    "collapsed": false,
    "deletable": true,
    "editable": true
   },
   "outputs": [
    {
     "name": "stdout",
     "output_type": "stream",
     "text": [
      "0.0079 sec\n",
      "Write voltage          : 0.5000 V\n",
      "Highest unselected bit : 0.2500 V\n",
      "Lowest selected bit    : 0.4992 V\n",
      "0.0061 sec\n",
      "Write voltage          : 1.0000 V\n",
      "Highest unselected bit : 0.5000 V\n",
      "Lowest selected bit    : 0.9984 V\n",
      "0.0061 sec\n",
      "Write voltage          : 1.6000 V\n",
      "Highest unselected bit : 0.8000 V\n",
      "Lowest selected bit    : 1.5974 V\n",
      "0.0048 sec\n",
      "Write voltage          : 2.0000 V\n",
      "Highest unselected bit : 1.0000 V\n",
      "Lowest selected bit    : 1.9967 V\n",
      "0.0062 sec\n",
      "Write voltage          : 2.5000 V\n",
      "Highest unselected bit : 1.2500 V\n",
      "Lowest selected bit    : 2.4959 V\n",
      "0.0049 sec\n",
      "Write voltage          : 3.0000 V\n",
      "Highest unselected bit : 1.5001 V\n",
      "Lowest selected bit    : 2.9951 V\n",
      "0.0048 sec\n",
      "Write voltage          : 4.0000 V\n",
      "Highest unselected bit : 2.0001 V\n",
      "Lowest selected bit    : 3.9934 V\n"
     ]
    }
   ],
   "source": [
    "for v in vRead:\n",
    "    # Voltages for BLs and WLs (read voltages, unselected WLs V/2, BL are 0 or V)\n",
    "    vWLsel = v\n",
    "    vWLnsel = v / 2.0\n",
    "    vBL0 = 0.0\n",
    "    vBL1 = v\n",
    "\n",
    "    if pat_type == 'random':\n",
    "        jpattern = BLpattern_random\n",
    "    if pat_type == 'ones':\n",
    "        jpattern = BLpattern_ones\n",
    "    if pat_type == 'zeros':\n",
    "        jpattern = BLpattern_zeros\n",
    "\n",
    "    start_t = timer()\n",
    "    # Create conductance matrix\n",
    "    conductancematrix, iinvector = conductance_matrix_CAMREAD(n, rL, rHRS,\n",
    "                                                              vWLsel, vWLnsel, vBL0, vBL1,\n",
    "                                                              isel=n-1, jpattern=jpattern, verbose=False)\n",
    "    # Convert to sparse matrix (CSR)\n",
    "    conductancematrix = csr_matrix(conductancematrix)\n",
    "    # Solve\n",
    "    voltages = spsolve(conductancematrix, iinvector)\n",
    "    stop_t = timer()\n",
    "\n",
    "    # Separate WL and BL nodes and calculate cell voltages\n",
    "    WLvoltages = voltages[:n*n].reshape((n, n))\n",
    "    BLvoltages = voltages[n*n:].reshape((n, n))\n",
    "    WLvoltagesList.append(WLvoltages)\n",
    "    BLvoltagesList.append(BLvoltages)\n",
    "\n",
    "    cellVoltages = abs(BLvoltages - WLvoltages)\n",
    "    cellVoltagesList.append(cellVoltages)\n",
    "\n",
    "    # Calculate Highest Unselected Bit and Lowest Selected Bit\n",
    "    hub = np.max(cellVoltages[mask])\n",
    "    lsb = cellVoltages[n-1][n-1]\n",
    "    hubList.append(hub)\n",
    "    lsbList.append(lsb)\n",
    "    \n",
    "    print \"{:.4f} sec\".format(stop_t - start_t)\n",
    "    print \"Write voltage          : {:.4f} V\".format(v)\n",
    "    print \"Highest unselected bit : {:.4f} V\".format(hub)\n",
    "    print \"Lowest selected bit    : {:.4f} V\".format(lsb)"
   ]
  },
  {
   "cell_type": "code",
   "execution_count": 164,
   "metadata": {
    "collapsed": false,
    "deletable": true,
    "editable": true
   },
   "outputs": [
    {
     "data": {
      "image/png": "[encoded data removed]",
      "text/plain": [
       "<matplotlib.figure.Figure at 0x1102f5250>"
      ]
     },
     "metadata": {},
     "output_type": "display_data"
    }
   ],
   "source": [
    "if n < 9:\n",
    "    sns.heatmap(WLvoltagesList[2], square=True)\n",
    "else:\n",
    "    sns.heatmap(WLvoltagesList[2], square=True, xticklabels=n/8, yticklabels=n/8)\n",
    "plt.savefig(\"figures/camread_mapWL_{}_{}.png\".format(pat_type, n), dpi=300, figsize=(10,10))"
   ]
  },
  {
   "cell_type": "code",
   "execution_count": 165,
   "metadata": {
    "collapsed": false,
    "deletable": true,
    "editable": true
   },
   "outputs": [
    {
     "data": {
      "image/png": "[encoded data removed]",
      "text/plain": [
       "<matplotlib.figure.Figure at 0x10fa08d10>"
      ]
     },
     "metadata": {},
     "output_type": "display_data"
    }
   ],
   "source": [
    "if n < 9:\n",
    "    sns.heatmap(BLvoltagesList[2], square=True)\n",
    "else:\n",
    "    sns.heatmap(BLvoltagesList[2], square=True, xticklabels=n/8, yticklabels=n/8)\n",
    "plt.savefig(\"figures/camread_mapBL_{}_{}.png\".format(pat_type, n), dpi=300, figsize=(10,10))"
   ]
  },
  {
   "cell_type": "code",
   "execution_count": 166,
   "metadata": {
    "collapsed": false,
    "deletable": true,
    "editable": true
   },
   "outputs": [
    {
     "data": {
      "image/png": "[encoded data removed]",
      "text/plain": [
       "<matplotlib.figure.Figure at 0x10950d750>"
      ]
     },
     "metadata": {},
     "output_type": "display_data"
    }
   ],
   "source": [
    "if n < 9:\n",
    "    sns.heatmap(cellVoltagesList[2], square=True)\n",
    "else:\n",
    "    sns.heatmap(cellVoltagesList[2], square=True, xticklabels=n/8, yticklabels=n/8)\n",
    "plt.savefig(\"figures/camread_mapCell_{}_{}.png\".format(pat_type, n), dpi=300, figsize=(10,10))"
   ]
  },
  {
   "cell_type": "code",
   "execution_count": 167,
   "metadata": {
    "collapsed": false,
    "deletable": true,
    "editable": true
   },
   "outputs": [
    {
     "data": {
      "image/png": "[encoded data removed]",
      "text/plain": [
       "<matplotlib.figure.Figure at 0x1094b3450>"
      ]
     },
     "metadata": {},
     "output_type": "display_data"
    }
   ],
   "source": [
    "plt.plot(vRead, hubList, vRead, lsbList)\n",
    "plt.plot([0.5, 4], [1.1, 1.1], [0.5, 4], [2.2, 2.2], c='gray', ls='--')\n",
    "plt.plot([0.5, 4], [1.2, 1.2], c='gray', ls='--')\n",
    "plt.xlim([0,4.5])\n",
    "plt.ylim([0,4.5])\n",
    "plt.ylabel(\"Vcell\")\n",
    "plt.xlabel(\"Vread\")\n",
    "plt.savefig(\"figures/camread_margin_{}_{}.png\".format(pat_type, n), dpi=300, figsize=(10,12))\n",
    "plt.show()"
   ]
  },
  {
   "cell_type": "code",
   "execution_count": 168,
   "metadata": {
    "collapsed": false,
    "deletable": true,
    "editable": true
   },
   "outputs": [
    {
     "name": "stdout",
     "output_type": "stream",
     "text": [
      "[ 1.20197343  2.20361795]\n",
      "2.19992119706\n"
     ]
    }
   ],
   "source": [
    "# Find window\n",
    "windowlsb = np.interp([1.2, 2.2], lsbList, vRead)\n",
    "windowhub = np.interp(1.1, hubList, vRead)\n",
    "print windowlsb\n",
    "print windowhub"
   ]
  },
  {
   "cell_type": "code",
   "execution_count": 169,
   "metadata": {
    "collapsed": false
   },
   "outputs": [],
   "source": [
    "# Output data to csv\n",
    "np.savetxt(\"data/camread_margin_{}_{}.csv\".format(pat_type, n),\n",
    "           np.vstack((vRead, lsbList, hubList)).T,\n",
    "           delimiter=',',\n",
    "           header=\"Vread,VcellLSB,VcellHUB\",\n",
    "           footer=\",WindowLSB = {} - {}, WindowHSB < {}\".format(windowlsb[0], windowlsb[1], windowhub),\n",
    "           comments='')\n",
    "np.savetxt(\"data/camread_mapCell_{}_{}.csv\".format(pat_type, n),\n",
    "           cellVoltagesList[2],\n",
    "           delimiter=',')\n",
    "np.savetxt(\"data/camread_mapWL_{}_{}.csv\".format(pat_type, n),\n",
    "           WLvoltagesList[2],\n",
    "           delimiter=',')\n",
    "np.savetxt(\"data/camread_mapBL_{}_{}.csv\".format(pat_type, n),\n",
    "           BLvoltagesList[2],\n",
    "           delimiter=',')"
   ]
  },
  {
   "cell_type": "code",
   "execution_count": null,
   "metadata": {
    "collapsed": true
   },
   "outputs": [],
   "source": []
  }
 ],
 "metadata": {
  "kernelspec": {
   "display_name": "Python 2",
   "language": "python",
   "name": "python2"
  },
  "language_info": {
   "codemirror_mode": {
    "name": "ipython",
    "version": 2
   },
   "file_extension": ".py",
   "mimetype": "text/x-python",
   "name": "python",
   "nbconvert_exporter": "python",
   "pygments_lexer": "ipython2",
   "version": "2.7.13"
  }
 },
 "nbformat": 4,
 "nbformat_minor": 2
}
