{
 "cells": [
  {
   "cell_type": "code",
   "execution_count": 48,
   "metadata": {
    "collapsed": true,
    "deletable": true,
    "editable": true
   },
   "outputs": [],
   "source": [
    "%matplotlib inline"
   ]
  },
  {
   "cell_type": "code",
   "execution_count": 68,
   "metadata": {
    "collapsed": true,
    "deletable": true,
    "editable": true
   },
   "outputs": [],
   "source": [
    "import numpy as np\n",
    "from scipy.sparse.linalg import spsolve\n",
    "from scipy.sparse import csr_matrix\n",
    "import matplotlib.pyplot as plt\n",
    "import seaborn as sns\n",
    "from condlib import conductance_matrix_WRITE\n",
    "from timeit import default_timer as timer"
   ]
  },
  {
   "cell_type": "code",
   "execution_count": 123,
   "metadata": {
    "collapsed": false,
    "deletable": true,
    "editable": true
   },
   "outputs": [],
   "source": [
    "# Memory array parameters\n",
    "rL = 12\n",
    "rHRS = 1e6\n",
    "n = 128\n",
    "vWrite = [1.0, 2.0, 3.0, 4.0, 5.0]"
   ]
  },
  {
   "cell_type": "code",
   "execution_count": 124,
   "metadata": {
    "collapsed": true
   },
   "outputs": [],
   "source": [
    "hubList = []\n",
    "lsbList = []"
   ]
  },
  {
   "cell_type": "code",
   "execution_count": 125,
   "metadata": {
    "collapsed": false,
    "deletable": true,
    "editable": true
   },
   "outputs": [
    {
     "name": "stdout",
     "output_type": "stream",
     "text": [
      "22.5985 sec\n",
      "Write voltage          : 1.0000 V\n",
      "Highest unselected bit : 0.3324 V\n",
      "Lowest selected bit    : 0.9322 V\n",
      "20.3814 sec\n",
      "Write voltage          : 2.0000 V\n",
      "Highest unselected bit : 0.6648 V\n",
      "Lowest selected bit    : 1.8644 V\n",
      "21.2629 sec\n",
      "Write voltage          : 3.0000 V\n",
      "Highest unselected bit : 0.9972 V\n",
      "Lowest selected bit    : 2.7967 V\n",
      "22.4398 sec\n",
      "Write voltage          : 4.0000 V\n",
      "Highest unselected bit : 1.3296 V\n",
      "Lowest selected bit    : 3.7289 V\n",
      "21.0594 sec\n",
      "Write voltage          : 5.0000 V\n",
      "Highest unselected bit : 1.6619 V\n",
      "Lowest selected bit    : 4.6611 V\n"
     ]
    }
   ],
   "source": [
    "for v in vWrite:\n",
    "    # Voltages for BLs and WLs (V/3 write scheme in this case)\n",
    "    vBLsel = 0.0\n",
    "    vBLnsel = 2.0 * v / 3.0\n",
    "    vWLsel = v\n",
    "    vWLnsel = 1.0 * v / 3.0\n",
    "\n",
    "    start_t = timer()\n",
    "    # Create conductance matrix\n",
    "    conductancematrix, iinvector = conductance_matrix_WRITE(n, rL, rHRS,\n",
    "                                                            vWLsel, vWLnsel, vBLsel, vBLnsel,\n",
    "                                                            isel=n-1, jsel=n-1, verbose=False)\n",
    "    # Convert to sparse matrix (CSR)\n",
    "    conductancematrix = csr_matrix(conductancematrix)\n",
    "    # Solve\n",
    "    voltages = spsolve(conductancematrix, iinvector)\n",
    "    stop_t = timer()\n",
    "\n",
    "    print \"{:.4f} sec\".format(stop_t - start_t)\n",
    "\n",
    "    WLvoltages = voltages[:n*n].reshape((n, n))\n",
    "    BLvoltages = voltages[n*n:].reshape((n, n))\n",
    "\n",
    "    hub = abs(BLvoltages[0][0] - WLvoltages[0][0])\n",
    "    lsb = abs(BLvoltages[n-1][n-1] - WLvoltages[n-1][n-1])\n",
    "    hubList.append(hub)\n",
    "    lsbList.append(lsb)\n",
    "\n",
    "    print \"Write voltage          : {:.4f} V\".format(v)\n",
    "    print \"Highest unselected bit : {:.4f} V\".format(hub)\n",
    "    print \"Lowest selected bit    : {:.4f} V\".format(lsb)"
   ]
  },
  {
   "cell_type": "code",
   "execution_count": 126,
   "metadata": {
    "collapsed": false,
    "deletable": true,
    "editable": true
   },
   "outputs": [
    {
     "data": {
      "text/plain": [
       "<matplotlib.axes._subplots.AxesSubplot at 0x117b4ddd0>"
      ]
     },
     "execution_count": 126,
     "metadata": {},
     "output_type": "execute_result"
    },
    {
     "data": {
      "image/png": "[encoded data removed]",
      "text/plain": [
       "<matplotlib.figure.Figure at 0x117affe10>"
      ]
     },
     "metadata": {},
     "output_type": "display_data"
    }
   ],
   "source": [
    "sns.heatmap(WLvoltages, square=True, xticklabels=n/8, yticklabels=n/8)"
   ]
  },
  {
   "cell_type": "code",
   "execution_count": 127,
   "metadata": {
    "collapsed": false,
    "deletable": true,
    "editable": true
   },
   "outputs": [
    {
     "data": {
      "text/plain": [
       "<matplotlib.axes._subplots.AxesSubplot at 0x11818f910>"
      ]
     },
     "execution_count": 127,
     "metadata": {},
     "output_type": "execute_result"
    },
    {
     "data": {
      "image/png": "[encoded data removed]",
      "text/plain": [
       "<matplotlib.figure.Figure at 0x117b6abd0>"
      ]
     },
     "metadata": {},
     "output_type": "display_data"
    }
   ],
   "source": [
    "sns.heatmap(BLvoltages, square=True, xticklabels=n/8, yticklabels=n/8)"
   ]
  },
  {
   "cell_type": "code",
   "execution_count": 128,
   "metadata": {
    "collapsed": false,
    "deletable": true,
    "editable": true
   },
   "outputs": [
    {
     "data": {
      "text/plain": [
       "[<matplotlib.lines.Line2D at 0x1197e6b10>,\n",
       " <matplotlib.lines.Line2D at 0x1197e6d10>]"
      ]
     },
     "execution_count": 128,
     "metadata": {},
     "output_type": "execute_result"
    },
    {
     "data": {
      "image/png": "[encoded data removed]",
      "text/plain": [
       "<matplotlib.figure.Figure at 0x11970f810>"
      ]
     },
     "metadata": {},
     "output_type": "display_data"
    }
   ],
   "source": [
    "plt.plot(vWrite, hubList, vWrite, lsbList)"
   ]
  },
  {
   "cell_type": "code",
   "execution_count": null,
   "metadata": {
    "collapsed": true,
    "deletable": true,
    "editable": true
   },
   "outputs": [],
   "source": []
  }
 ],
 "metadata": {
  "kernelspec": {
   "display_name": "Python 2",
   "language": "python",
   "name": "python2"
  },
  "language_info": {
   "codemirror_mode": {
    "name": "ipython",
    "version": 2
   },
   "file_extension": ".py",
   "mimetype": "text/x-python",
   "name": "python",
   "nbconvert_exporter": "python",
   "pygments_lexer": "ipython2",
   "version": "2.7.13"
  }
 },
 "nbformat": 4,
 "nbformat_minor": 2
}
