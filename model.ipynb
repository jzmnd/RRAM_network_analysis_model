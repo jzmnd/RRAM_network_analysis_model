{
 "cells": [
  {
   "cell_type": "code",
   "execution_count": 33,
   "metadata": {
    "collapsed": true,
    "deletable": true,
    "editable": true
   },
   "outputs": [],
   "source": [
    "%matplotlib inline"
   ]
  },
  {
   "cell_type": "code",
   "execution_count": 34,
   "metadata": {
    "collapsed": true,
    "deletable": true,
    "editable": true
   },
   "outputs": [],
   "source": [
    "import numpy as np\n",
    "from scipy.sparse.linalg import spsolve\n",
    "from scipy.sparse import csr_matrix\n",
    "import matplotlib.pyplot as plt\n",
    "import seaborn as sns\n",
    "from condlib import conductance_matrix_WRITE\n",
    "from timeit import default_timer as timer"
   ]
  },
  {
   "cell_type": "code",
   "execution_count": 35,
   "metadata": {
    "collapsed": false,
    "deletable": true,
    "editable": true
   },
   "outputs": [],
   "source": [
    "# Memory array parameters\n",
    "rL = 12\n",
    "rHRS = 1e5\n",
    "n = 64\n",
    "vWrite = [0.5, 1.0, 2.0, 3.0, 4.0, 5.0, 6.0]"
   ]
  },
  {
   "cell_type": "code",
   "execution_count": 36,
   "metadata": {
    "collapsed": true,
    "deletable": true,
    "editable": true
   },
   "outputs": [],
   "source": [
    "hubList = []\n",
    "lsbList = []"
   ]
  },
  {
   "cell_type": "code",
   "execution_count": 37,
   "metadata": {
    "collapsed": false,
    "deletable": true,
    "editable": true
   },
   "outputs": [
    {
     "name": "stdout",
     "output_type": "stream",
     "text": [
      "0.9782 sec\n",
      "0.167729885761\n",
      "0.332270114239\n",
      "Write voltage          : 0.5000 V\n",
      "Highest unselected bit : 0.1645 V\n",
      "Lowest selected bit    : 0.4162 V\n",
      "0.9346 sec\n",
      "0.335459771523\n",
      "0.664540228477\n",
      "Write voltage          : 1.0000 V\n",
      "Highest unselected bit : 0.3291 V\n",
      "Lowest selected bit    : 0.8325 V\n",
      "0.9353 sec\n",
      "0.670919543046\n",
      "1.32908045695\n",
      "Write voltage          : 2.0000 V\n",
      "Highest unselected bit : 0.6582 V\n",
      "Lowest selected bit    : 1.6650 V\n",
      "0.9621 sec\n",
      "1.00637931457\n",
      "1.99362068543\n",
      "Write voltage          : 3.0000 V\n",
      "Highest unselected bit : 0.9872 V\n",
      "Lowest selected bit    : 2.4975 V\n",
      "0.9182 sec\n",
      "1.34183908609\n",
      "2.65816091391\n",
      "Write voltage          : 4.0000 V\n",
      "Highest unselected bit : 1.3163 V\n",
      "Lowest selected bit    : 3.3300 V\n",
      "1.0417 sec\n",
      "1.67729885761\n",
      "3.32270114239\n",
      "Write voltage          : 5.0000 V\n",
      "Highest unselected bit : 1.6454 V\n",
      "Lowest selected bit    : 4.1625 V\n",
      "1.0353 sec\n",
      "2.01275862914\n",
      "3.98724137086\n",
      "Write voltage          : 6.0000 V\n",
      "Highest unselected bit : 1.9745 V\n",
      "Lowest selected bit    : 4.9950 V\n"
     ]
    }
   ],
   "source": [
    "for v in vWrite:\n",
    "    # Voltages for BLs and WLs (V/3 write scheme in this case)\n",
    "    vBLsel = 0.0\n",
    "    vBLnsel = 2.0 * v / 3.0\n",
    "    vWLsel = v\n",
    "    vWLnsel = 1.0 * v / 3.0\n",
    "\n",
    "    start_t = timer()\n",
    "    # Create conductance matrix\n",
    "    conductancematrix, iinvector = conductance_matrix_WRITE(n, rL, rHRS,\n",
    "                                                            vWLsel, vWLnsel, vBLsel, vBLnsel,\n",
    "                                                            isel=n-1, jsel=n-1, verbose=False)\n",
    "    # Convert to sparse matrix (CSR)\n",
    "    conductancematrix = csr_matrix(conductancematrix)\n",
    "    # Solve\n",
    "    voltages = spsolve(conductancematrix, iinvector)\n",
    "    stop_t = timer()\n",
    "\n",
    "    print \"{:.4f} sec\".format(stop_t - start_t)\n",
    "\n",
    "    WLvoltages = voltages[:n*n].reshape((n, n))\n",
    "    BLvoltages = voltages[n*n:].reshape((n, n))\n",
    "    \n",
    "    print WLvoltages[0][0]\n",
    "    print BLvoltages[0][0]\n",
    "\n",
    "    hub = abs(BLvoltages[0][0] - WLvoltages[0][0])\n",
    "    lsb = abs(BLvoltages[n-1][n-1] - WLvoltages[n-1][n-1])\n",
    "    hubList.append(hub)\n",
    "    lsbList.append(lsb)\n",
    "\n",
    "    print \"Write voltage          : {:.4f} V\".format(v)\n",
    "    print \"Highest unselected bit : {:.4f} V\".format(hub)\n",
    "    print \"Lowest selected bit    : {:.4f} V\".format(lsb)"
   ]
  },
  {
   "cell_type": "code",
   "execution_count": 38,
   "metadata": {
    "collapsed": false,
    "deletable": true,
    "editable": true
   },
   "outputs": [
    {
     "data": {
      "text/plain": [
       "<matplotlib.axes._subplots.AxesSubplot at 0x10e090d90>"
      ]
     },
     "execution_count": 38,
     "metadata": {},
     "output_type": "execute_result"
    },
    {
     "data": {
      "image/png": "[encoded data removed]",
      "text/plain": [
       "<matplotlib.figure.Figure at 0x10e0b95d0>"
      ]
     },
     "metadata": {},
     "output_type": "display_data"
    }
   ],
   "source": [
    "sns.heatmap(WLvoltages, square=True, xticklabels=n/8, yticklabels=n/8)"
   ]
  },
  {
   "cell_type": "code",
   "execution_count": 39,
   "metadata": {
    "collapsed": false,
    "deletable": true,
    "editable": true
   },
   "outputs": [
    {
     "data": {
      "text/plain": [
       "<matplotlib.axes._subplots.AxesSubplot at 0x10f548a90>"
      ]
     },
     "execution_count": 39,
     "metadata": {},
     "output_type": "execute_result"
    },
    {
     "data": {
      "image/png": "[encoded data removed]",
      "text/plain": [
       "<matplotlib.figure.Figure at 0x10e0a6290>"
      ]
     },
     "metadata": {},
     "output_type": "display_data"
    }
   ],
   "source": [
    "sns.heatmap(BLvoltages, square=True, xticklabels=n/8, yticklabels=n/8)"
   ]
  },
  {
   "cell_type": "code",
   "execution_count": 40,
   "metadata": {
    "collapsed": false,
    "deletable": true,
    "editable": true
   },
   "outputs": [
    {
     "data": {
      "image/png": "[encoded data removed]",
      "text/plain": [
       "<matplotlib.figure.Figure at 0x10e05ddd0>"
      ]
     },
     "metadata": {},
     "output_type": "display_data"
    }
   ],
   "source": [
    "plt.plot(vWrite, hubList, vWrite, lsbList)\n",
    "plt.ylabel(\"Vwrite\")\n",
    "plt.xlabel(\"Vcell\")\n",
    "plt.show()"
   ]
  },
  {
   "cell_type": "code",
   "execution_count": null,
   "metadata": {
    "collapsed": true,
    "deletable": true,
    "editable": true
   },
   "outputs": [],
   "source": []
  }
 ],
 "metadata": {
  "kernelspec": {
   "display_name": "Python 2",
   "language": "python",
   "name": "python2"
  },
  "language_info": {
   "codemirror_mode": {
    "name": "ipython",
    "version": 2
   },
   "file_extension": ".py",
   "mimetype": "text/x-python",
   "name": "python",
   "nbconvert_exporter": "python",
   "pygments_lexer": "ipython2",
   "version": "2.7.13"
  }
 },
 "nbformat": 4,
 "nbformat_minor": 2
}
