{
 "cells": [
  {
   "cell_type": "code",
   "execution_count": 43,
   "metadata": {
    "collapsed": true,
    "deletable": true,
    "editable": true
   },
   "outputs": [],
   "source": [
    "%matplotlib inline"
   ]
  },
  {
   "cell_type": "code",
   "execution_count": 44,
   "metadata": {
    "collapsed": true,
    "deletable": true,
    "editable": true
   },
   "outputs": [],
   "source": [
    "import numpy as np\n",
    "from scipy.sparse.linalg import spsolve\n",
    "from scipy.sparse import csr_matrix\n",
    "import matplotlib.pyplot as plt\n",
    "import seaborn as sns\n",
    "from condlib import conductance_matrix_WRITE\n",
    "from timeit import default_timer as timer"
   ]
  },
  {
   "cell_type": "code",
   "execution_count": 45,
   "metadata": {
    "collapsed": false,
    "deletable": true,
    "editable": true
   },
   "outputs": [],
   "source": [
    "# Memory array parameters\n",
    "rL = 4.8\n",
    "rHRS = 1e6\n",
    "n = 128\n",
    "vWrite = [0.5, 1.0, 2.0, 3.0, 4.0, 5.0, 6.0]"
   ]
  },
  {
   "cell_type": "code",
   "execution_count": 46,
   "metadata": {
    "collapsed": true,
    "deletable": true,
    "editable": true
   },
   "outputs": [],
   "source": [
    "hubList = []\n",
    "lsbList = []\n",
    "WLvoltagesList = []\n",
    "BLvoltagesList = []\n",
    "cellVoltagesList = []"
   ]
  },
  {
   "cell_type": "code",
   "execution_count": 47,
   "metadata": {
    "collapsed": false,
    "deletable": true,
    "editable": true
   },
   "outputs": [
    {
     "name": "stdout",
     "output_type": "stream",
     "text": [
      "25.3234 sec\n",
      "Write voltage          : 0.5000 V\n",
      "Highest unselected bit : 0.1665 V\n",
      "Lowest selected bit    : 0.4864 V\n",
      "23.7110 sec\n",
      "Write voltage          : 1.0000 V\n",
      "Highest unselected bit : 0.3329 V\n",
      "Lowest selected bit    : 0.9727 V\n",
      "24.5699 sec\n",
      "Write voltage          : 2.0000 V\n",
      "Highest unselected bit : 0.6659 V\n",
      "Lowest selected bit    : 1.9455 V\n",
      "23.5940 sec\n",
      "Write voltage          : 3.0000 V\n",
      "Highest unselected bit : 0.9988 V\n",
      "Lowest selected bit    : 2.9182 V\n",
      "21.5377 sec\n",
      "Write voltage          : 4.0000 V\n",
      "Highest unselected bit : 1.3318 V\n",
      "Lowest selected bit    : 3.8909 V\n",
      "23.6368 sec\n",
      "Write voltage          : 5.0000 V\n",
      "Highest unselected bit : 1.6647 V\n",
      "Lowest selected bit    : 4.8637 V\n",
      "23.0708 sec\n",
      "Write voltage          : 6.0000 V\n",
      "Highest unselected bit : 1.9976 V\n",
      "Lowest selected bit    : 5.8364 V\n"
     ]
    }
   ],
   "source": [
    "for v in vWrite:\n",
    "    # Voltages for BLs and WLs (V/3 write scheme in this case)\n",
    "    vBLsel = 0.0\n",
    "    vBLnsel = 2.0 * v / 3.0\n",
    "    vWLsel = v\n",
    "    vWLnsel = 1.0 * v / 3.0\n",
    "\n",
    "    start_t = timer()\n",
    "    # Create conductance matrix\n",
    "    conductancematrix, iinvector = conductance_matrix_WRITE(n, rL, rHRS,\n",
    "                                                            vWLsel, vWLnsel, vBLsel, vBLnsel,\n",
    "                                                            isel=n-1, jsel=n-1, verbose=False)\n",
    "    # Convert to sparse matrix (CSR)\n",
    "    conductancematrix = csr_matrix(conductancematrix)\n",
    "    # Solve\n",
    "    voltages = spsolve(conductancematrix, iinvector)\n",
    "    stop_t = timer()\n",
    "\n",
    "    # Separate WL and BL nodes and calculate cell voltages\n",
    "    WLvoltages = voltages[:n*n].reshape((n, n))\n",
    "    BLvoltages = voltages[n*n:].reshape((n, n))\n",
    "    WLvoltagesList.append(WLvoltages)\n",
    "    BLvoltagesList.append(BLvoltages)\n",
    "\n",
    "    cellVoltages = abs(BLvoltages - WLvoltages)\n",
    "    cellVoltagesList.append(cellVoltages)\n",
    "\n",
    "    # Calculate Highest Unselected Bit and Lowest Selected Bit\n",
    "    hub = cellVoltages[0][0]\n",
    "    lsb = cellVoltages[n-1][n-1]\n",
    "    hubList.append(hub)\n",
    "    lsbList.append(lsb)\n",
    "    \n",
    "    print \"{:.4f} sec\".format(stop_t - start_t)\n",
    "    print \"Write voltage          : {:.4f} V\".format(v)\n",
    "    print \"Highest unselected bit : {:.4f} V\".format(hub)\n",
    "    print \"Lowest selected bit    : {:.4f} V\".format(lsb)"
   ]
  },
  {
   "cell_type": "code",
   "execution_count": 48,
   "metadata": {
    "collapsed": false,
    "deletable": true,
    "editable": true
   },
   "outputs": [
    {
     "data": {
      "text/plain": [
       "<matplotlib.axes._subplots.AxesSubplot at 0x10d0c5e90>"
      ]
     },
     "execution_count": 48,
     "metadata": {},
     "output_type": "execute_result"
    },
    {
     "data": {
      "image/png": "[encoded data removed]",
      "text/plain": [
       "<matplotlib.figure.Figure at 0x10fa0f210>"
      ]
     },
     "metadata": {},
     "output_type": "display_data"
    }
   ],
   "source": [
    "sns.heatmap(WLvoltagesList[3], square=True, xticklabels=n/8, yticklabels=n/8)"
   ]
  },
  {
   "cell_type": "code",
   "execution_count": 49,
   "metadata": {
    "collapsed": false,
    "deletable": true,
    "editable": true
   },
   "outputs": [
    {
     "data": {
      "text/plain": [
       "<matplotlib.axes._subplots.AxesSubplot at 0x10f31f850>"
      ]
     },
     "execution_count": 49,
     "metadata": {},
     "output_type": "execute_result"
    },
    {
     "data": {
      "image/png": "[encoded data removed]",
      "text/plain": [
       "<matplotlib.figure.Figure at 0x10c58bad0>"
      ]
     },
     "metadata": {},
     "output_type": "display_data"
    }
   ],
   "source": [
    "sns.heatmap(BLvoltagesList[3], square=True, xticklabels=n/8, yticklabels=n/8)"
   ]
  },
  {
   "cell_type": "code",
   "execution_count": 50,
   "metadata": {
    "collapsed": false
   },
   "outputs": [
    {
     "data": {
      "text/plain": [
       "<matplotlib.axes._subplots.AxesSubplot at 0x10d38ac10>"
      ]
     },
     "execution_count": 50,
     "metadata": {},
     "output_type": "execute_result"
    },
    {
     "data": {
      "image/png": "[encoded data removed]",
      "text/plain": [
       "<matplotlib.figure.Figure at 0x10c0fe410>"
      ]
     },
     "metadata": {},
     "output_type": "display_data"
    }
   ],
   "source": [
    "sns.heatmap(cellVoltagesList[3], square=True, xticklabels=n/8, yticklabels=n/8)"
   ]
  },
  {
   "cell_type": "code",
   "execution_count": 51,
   "metadata": {
    "collapsed": false,
    "deletable": true,
    "editable": true
   },
   "outputs": [
    {
     "data": {
      "image/png": "[encoded data removed]",
      "text/plain": [
       "<matplotlib.figure.Figure at 0x10d0d1a10>"
      ]
     },
     "metadata": {},
     "output_type": "display_data"
    }
   ],
   "source": [
    "plt.plot(vWrite, hubList, vWrite, lsbList)\n",
    "plt.plot([0.5, 6], [2.8, 2.8], [0.5, 6], [1.8, 1.8], [0.5, 6], [1, 1], c='gray', ls='--')\n",
    "plt.ylabel(\"Vcell\")\n",
    "plt.xlabel(\"Vwrite\")\n",
    "plt.show()"
   ]
  },
  {
   "cell_type": "code",
   "execution_count": null,
   "metadata": {
    "collapsed": true,
    "deletable": true,
    "editable": true
   },
   "outputs": [],
   "source": []
  }
 ],
 "metadata": {
  "kernelspec": {
   "display_name": "Python 2",
   "language": "python",
   "name": "python2"
  },
  "language_info": {
   "codemirror_mode": {
    "name": "ipython",
    "version": 2
   },
   "file_extension": ".py",
   "mimetype": "text/x-python",
   "name": "python",
   "nbconvert_exporter": "python",
   "pygments_lexer": "ipython2",
   "version": "2.7.13"
  }
 },
 "nbformat": 4,
 "nbformat_minor": 2
}
